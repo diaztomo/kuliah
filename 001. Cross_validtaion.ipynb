{
 "cells": [
  {
   "cell_type": "code",
   "execution_count": 213,
   "id": "40c9e0ae",
   "metadata": {},
   "outputs": [],
   "source": [
    "import numpy as np\n",
    "import pandas as pd\n",
    "import matplotlib.pyplot as plt\n",
    "from sklearn.linear_model import LogisticRegression"
   ]
  },
  {
   "cell_type": "code",
   "execution_count": null,
   "id": "f9285251",
   "metadata": {},
   "outputs": [],
   "source": []
  },
  {
   "cell_type": "markdown",
   "id": "d54aefcd",
   "metadata": {},
   "source": [
    "## Import dataset "
   ]
  },
  {
   "cell_type": "markdown",
   "id": "1a2a389d",
   "metadata": {},
   "source": [
    "sumber : https://www.kaggle.com/adityakadiwal/water-potability"
   ]
  },
  {
   "cell_type": "code",
   "execution_count": 214,
   "id": "c1183d2a",
   "metadata": {},
   "outputs": [
    {
     "data": {
      "text/html": [
       "<div>\n",
       "<style scoped>\n",
       "    .dataframe tbody tr th:only-of-type {\n",
       "        vertical-align: middle;\n",
       "    }\n",
       "\n",
       "    .dataframe tbody tr th {\n",
       "        vertical-align: top;\n",
       "    }\n",
       "\n",
       "    .dataframe thead th {\n",
       "        text-align: right;\n",
       "    }\n",
       "</style>\n",
       "<table border=\"1\" class=\"dataframe\">\n",
       "  <thead>\n",
       "    <tr style=\"text-align: right;\">\n",
       "      <th></th>\n",
       "      <th>ph</th>\n",
       "      <th>Hardness</th>\n",
       "      <th>Solids</th>\n",
       "      <th>Chloramines</th>\n",
       "      <th>Sulfate</th>\n",
       "      <th>Conductivity</th>\n",
       "      <th>Organic_carbon</th>\n",
       "      <th>Trihalomethanes</th>\n",
       "      <th>Turbidity</th>\n",
       "      <th>Potability</th>\n",
       "    </tr>\n",
       "  </thead>\n",
       "  <tbody>\n",
       "    <tr>\n",
       "      <th>0</th>\n",
       "      <td>NaN</td>\n",
       "      <td>204.890455</td>\n",
       "      <td>20791.318981</td>\n",
       "      <td>7.300212</td>\n",
       "      <td>368.516441</td>\n",
       "      <td>564.308654</td>\n",
       "      <td>10.379783</td>\n",
       "      <td>86.990970</td>\n",
       "      <td>2.963135</td>\n",
       "      <td>0</td>\n",
       "    </tr>\n",
       "    <tr>\n",
       "      <th>1</th>\n",
       "      <td>3.716080</td>\n",
       "      <td>129.422921</td>\n",
       "      <td>18630.057858</td>\n",
       "      <td>6.635246</td>\n",
       "      <td>NaN</td>\n",
       "      <td>592.885359</td>\n",
       "      <td>15.180013</td>\n",
       "      <td>56.329076</td>\n",
       "      <td>4.500656</td>\n",
       "      <td>0</td>\n",
       "    </tr>\n",
       "    <tr>\n",
       "      <th>2</th>\n",
       "      <td>8.099124</td>\n",
       "      <td>224.236259</td>\n",
       "      <td>19909.541732</td>\n",
       "      <td>9.275884</td>\n",
       "      <td>NaN</td>\n",
       "      <td>418.606213</td>\n",
       "      <td>16.868637</td>\n",
       "      <td>66.420093</td>\n",
       "      <td>3.055934</td>\n",
       "      <td>0</td>\n",
       "    </tr>\n",
       "    <tr>\n",
       "      <th>3</th>\n",
       "      <td>8.316766</td>\n",
       "      <td>214.373394</td>\n",
       "      <td>22018.417441</td>\n",
       "      <td>8.059332</td>\n",
       "      <td>356.886136</td>\n",
       "      <td>363.266516</td>\n",
       "      <td>18.436524</td>\n",
       "      <td>100.341674</td>\n",
       "      <td>4.628771</td>\n",
       "      <td>0</td>\n",
       "    </tr>\n",
       "    <tr>\n",
       "      <th>4</th>\n",
       "      <td>9.092223</td>\n",
       "      <td>181.101509</td>\n",
       "      <td>17978.986339</td>\n",
       "      <td>6.546600</td>\n",
       "      <td>310.135738</td>\n",
       "      <td>398.410813</td>\n",
       "      <td>11.558279</td>\n",
       "      <td>31.997993</td>\n",
       "      <td>4.075075</td>\n",
       "      <td>0</td>\n",
       "    </tr>\n",
       "  </tbody>\n",
       "</table>\n",
       "</div>"
      ],
      "text/plain": [
       "         ph    Hardness        Solids  Chloramines     Sulfate  Conductivity  \\\n",
       "0       NaN  204.890455  20791.318981     7.300212  368.516441    564.308654   \n",
       "1  3.716080  129.422921  18630.057858     6.635246         NaN    592.885359   \n",
       "2  8.099124  224.236259  19909.541732     9.275884         NaN    418.606213   \n",
       "3  8.316766  214.373394  22018.417441     8.059332  356.886136    363.266516   \n",
       "4  9.092223  181.101509  17978.986339     6.546600  310.135738    398.410813   \n",
       "\n",
       "   Organic_carbon  Trihalomethanes  Turbidity  Potability  \n",
       "0       10.379783        86.990970   2.963135           0  \n",
       "1       15.180013        56.329076   4.500656           0  \n",
       "2       16.868637        66.420093   3.055934           0  \n",
       "3       18.436524       100.341674   4.628771           0  \n",
       "4       11.558279        31.997993   4.075075           0  "
      ]
     },
     "execution_count": 214,
     "metadata": {},
     "output_type": "execute_result"
    }
   ],
   "source": [
    "df1 = pd.read_csv(\"water_potability.csv\")\n",
    "df1.head()"
   ]
  },
  {
   "cell_type": "code",
   "execution_count": 215,
   "id": "9975f670",
   "metadata": {},
   "outputs": [
    {
     "data": {
      "text/plain": [
       "3276"
      ]
     },
     "execution_count": 215,
     "metadata": {},
     "output_type": "execute_result"
    }
   ],
   "source": [
    "len(df1)"
   ]
  },
  {
   "cell_type": "markdown",
   "id": "12b6ad2a",
   "metadata": {},
   "source": [
    "## Hapus missing value baris\n"
   ]
  },
  {
   "cell_type": "markdown",
   "id": "e74910f5",
   "metadata": {},
   "source": [
    "Penghapusan missing value dipilih pada baris yang memiliki missing value. penghapusan tidak dilakukan perkolom karena feature ph dan sulfat penting untuk menentukan kelayakan air minum]"
   ]
  },
  {
   "cell_type": "code",
   "execution_count": 216,
   "id": "873218fc",
   "metadata": {},
   "outputs": [
    {
     "data": {
      "text/plain": [
       "ph                 14.987790\n",
       "Hardness            0.000000\n",
       "Solids              0.000000\n",
       "Chloramines         0.000000\n",
       "Sulfate            23.840049\n",
       "Conductivity        0.000000\n",
       "Organic_carbon      0.000000\n",
       "Trihalomethanes     4.945055\n",
       "Turbidity           0.000000\n",
       "Potability          0.000000\n",
       "dtype: float64"
      ]
     },
     "execution_count": 216,
     "metadata": {},
     "output_type": "execute_result"
    }
   ],
   "source": [
    "df1.isna().mean()*100"
   ]
  },
  {
   "cell_type": "code",
   "execution_count": 217,
   "id": "85d55d4d",
   "metadata": {},
   "outputs": [],
   "source": [
    "df = df1.dropna() #menghapus unit yang memiliki missing value"
   ]
  },
  {
   "cell_type": "code",
   "execution_count": 218,
   "id": "4f2e8233",
   "metadata": {},
   "outputs": [
    {
     "data": {
      "text/plain": [
       "2011"
      ]
     },
     "execution_count": 218,
     "metadata": {},
     "output_type": "execute_result"
    }
   ],
   "source": [
    "len(df) #sample yang tersisa"
   ]
  },
  {
   "cell_type": "markdown",
   "id": "981ece4f",
   "metadata": {},
   "source": [
    "## Pengacakan "
   ]
  },
  {
   "cell_type": "markdown",
   "id": "107db72a",
   "metadata": {},
   "source": [
    "pengacakan dilakukan sebelum melakukan cross-validation agar pemisahan train dan test set juga acak"
   ]
  },
  {
   "cell_type": "code",
   "execution_count": 219,
   "id": "5c4ab000",
   "metadata": {},
   "outputs": [
    {
     "data": {
      "text/html": [
       "<div>\n",
       "<style scoped>\n",
       "    .dataframe tbody tr th:only-of-type {\n",
       "        vertical-align: middle;\n",
       "    }\n",
       "\n",
       "    .dataframe tbody tr th {\n",
       "        vertical-align: top;\n",
       "    }\n",
       "\n",
       "    .dataframe thead th {\n",
       "        text-align: right;\n",
       "    }\n",
       "</style>\n",
       "<table border=\"1\" class=\"dataframe\">\n",
       "  <thead>\n",
       "    <tr style=\"text-align: right;\">\n",
       "      <th></th>\n",
       "      <th>ph</th>\n",
       "      <th>Hardness</th>\n",
       "      <th>Solids</th>\n",
       "      <th>Chloramines</th>\n",
       "      <th>Sulfate</th>\n",
       "      <th>Conductivity</th>\n",
       "      <th>Organic_carbon</th>\n",
       "      <th>Trihalomethanes</th>\n",
       "      <th>Turbidity</th>\n",
       "      <th>Potability</th>\n",
       "    </tr>\n",
       "  </thead>\n",
       "  <tbody>\n",
       "    <tr>\n",
       "      <th>1943</th>\n",
       "      <td>8.185923</td>\n",
       "      <td>240.979104</td>\n",
       "      <td>23641.472028</td>\n",
       "      <td>6.611449</td>\n",
       "      <td>318.689010</td>\n",
       "      <td>410.158222</td>\n",
       "      <td>13.109911</td>\n",
       "      <td>56.913981</td>\n",
       "      <td>3.566945</td>\n",
       "      <td>1</td>\n",
       "    </tr>\n",
       "    <tr>\n",
       "      <th>856</th>\n",
       "      <td>7.918183</td>\n",
       "      <td>224.152005</td>\n",
       "      <td>20012.172976</td>\n",
       "      <td>9.008726</td>\n",
       "      <td>302.393605</td>\n",
       "      <td>421.890083</td>\n",
       "      <td>22.187849</td>\n",
       "      <td>72.727868</td>\n",
       "      <td>4.764194</td>\n",
       "      <td>0</td>\n",
       "    </tr>\n",
       "    <tr>\n",
       "      <th>803</th>\n",
       "      <td>7.804369</td>\n",
       "      <td>216.673869</td>\n",
       "      <td>14160.686766</td>\n",
       "      <td>6.060144</td>\n",
       "      <td>281.355975</td>\n",
       "      <td>468.212537</td>\n",
       "      <td>15.147547</td>\n",
       "      <td>62.860627</td>\n",
       "      <td>4.075557</td>\n",
       "      <td>1</td>\n",
       "    </tr>\n",
       "    <tr>\n",
       "      <th>2621</th>\n",
       "      <td>5.859690</td>\n",
       "      <td>163.496895</td>\n",
       "      <td>19231.033290</td>\n",
       "      <td>6.541681</td>\n",
       "      <td>339.371480</td>\n",
       "      <td>468.376955</td>\n",
       "      <td>19.749079</td>\n",
       "      <td>61.790980</td>\n",
       "      <td>2.747333</td>\n",
       "      <td>0</td>\n",
       "    </tr>\n",
       "    <tr>\n",
       "      <th>2535</th>\n",
       "      <td>8.543217</td>\n",
       "      <td>183.907860</td>\n",
       "      <td>33037.353387</td>\n",
       "      <td>2.726766</td>\n",
       "      <td>358.556471</td>\n",
       "      <td>631.498623</td>\n",
       "      <td>17.333153</td>\n",
       "      <td>68.183227</td>\n",
       "      <td>2.847875</td>\n",
       "      <td>0</td>\n",
       "    </tr>\n",
       "    <tr>\n",
       "      <th>...</th>\n",
       "      <td>...</td>\n",
       "      <td>...</td>\n",
       "      <td>...</td>\n",
       "      <td>...</td>\n",
       "      <td>...</td>\n",
       "      <td>...</td>\n",
       "      <td>...</td>\n",
       "      <td>...</td>\n",
       "      <td>...</td>\n",
       "      <td>...</td>\n",
       "    </tr>\n",
       "    <tr>\n",
       "      <th>907</th>\n",
       "      <td>5.296579</td>\n",
       "      <td>220.080832</td>\n",
       "      <td>39537.086460</td>\n",
       "      <td>9.232766</td>\n",
       "      <td>322.433592</td>\n",
       "      <td>393.388603</td>\n",
       "      <td>10.583336</td>\n",
       "      <td>58.801469</td>\n",
       "      <td>3.918470</td>\n",
       "      <td>0</td>\n",
       "    </tr>\n",
       "    <tr>\n",
       "      <th>2488</th>\n",
       "      <td>6.862936</td>\n",
       "      <td>220.147889</td>\n",
       "      <td>23580.657290</td>\n",
       "      <td>6.611543</td>\n",
       "      <td>285.192181</td>\n",
       "      <td>325.721747</td>\n",
       "      <td>13.472758</td>\n",
       "      <td>89.412935</td>\n",
       "      <td>3.806093</td>\n",
       "      <td>0</td>\n",
       "    </tr>\n",
       "    <tr>\n",
       "      <th>1839</th>\n",
       "      <td>6.187938</td>\n",
       "      <td>249.527111</td>\n",
       "      <td>12682.150941</td>\n",
       "      <td>6.253224</td>\n",
       "      <td>263.268416</td>\n",
       "      <td>274.764703</td>\n",
       "      <td>14.352955</td>\n",
       "      <td>57.623368</td>\n",
       "      <td>3.546183</td>\n",
       "      <td>0</td>\n",
       "    </tr>\n",
       "    <tr>\n",
       "      <th>2270</th>\n",
       "      <td>6.020654</td>\n",
       "      <td>197.469090</td>\n",
       "      <td>10529.310299</td>\n",
       "      <td>5.305352</td>\n",
       "      <td>416.495213</td>\n",
       "      <td>412.011733</td>\n",
       "      <td>9.909315</td>\n",
       "      <td>59.167002</td>\n",
       "      <td>5.217131</td>\n",
       "      <td>0</td>\n",
       "    </tr>\n",
       "    <tr>\n",
       "      <th>1068</th>\n",
       "      <td>3.344589</td>\n",
       "      <td>156.479927</td>\n",
       "      <td>55334.702799</td>\n",
       "      <td>8.530102</td>\n",
       "      <td>371.147770</td>\n",
       "      <td>485.631148</td>\n",
       "      <td>16.980610</td>\n",
       "      <td>69.622490</td>\n",
       "      <td>2.575141</td>\n",
       "      <td>0</td>\n",
       "    </tr>\n",
       "  </tbody>\n",
       "</table>\n",
       "<p>2011 rows × 10 columns</p>\n",
       "</div>"
      ],
      "text/plain": [
       "            ph    Hardness        Solids  Chloramines     Sulfate  \\\n",
       "1943  8.185923  240.979104  23641.472028     6.611449  318.689010   \n",
       "856   7.918183  224.152005  20012.172976     9.008726  302.393605   \n",
       "803   7.804369  216.673869  14160.686766     6.060144  281.355975   \n",
       "2621  5.859690  163.496895  19231.033290     6.541681  339.371480   \n",
       "2535  8.543217  183.907860  33037.353387     2.726766  358.556471   \n",
       "...        ...         ...           ...          ...         ...   \n",
       "907   5.296579  220.080832  39537.086460     9.232766  322.433592   \n",
       "2488  6.862936  220.147889  23580.657290     6.611543  285.192181   \n",
       "1839  6.187938  249.527111  12682.150941     6.253224  263.268416   \n",
       "2270  6.020654  197.469090  10529.310299     5.305352  416.495213   \n",
       "1068  3.344589  156.479927  55334.702799     8.530102  371.147770   \n",
       "\n",
       "      Conductivity  Organic_carbon  Trihalomethanes  Turbidity  Potability  \n",
       "1943    410.158222       13.109911        56.913981   3.566945           1  \n",
       "856     421.890083       22.187849        72.727868   4.764194           0  \n",
       "803     468.212537       15.147547        62.860627   4.075557           1  \n",
       "2621    468.376955       19.749079        61.790980   2.747333           0  \n",
       "2535    631.498623       17.333153        68.183227   2.847875           0  \n",
       "...            ...             ...              ...        ...         ...  \n",
       "907     393.388603       10.583336        58.801469   3.918470           0  \n",
       "2488    325.721747       13.472758        89.412935   3.806093           0  \n",
       "1839    274.764703       14.352955        57.623368   3.546183           0  \n",
       "2270    412.011733        9.909315        59.167002   5.217131           0  \n",
       "1068    485.631148       16.980610        69.622490   2.575141           0  \n",
       "\n",
       "[2011 rows x 10 columns]"
      ]
     },
     "execution_count": 219,
     "metadata": {},
     "output_type": "execute_result"
    }
   ],
   "source": [
    "df.sample(frac=1, replace=True, random_state=2)"
   ]
  },
  {
   "cell_type": "markdown",
   "id": "d0197cd9",
   "metadata": {},
   "source": [
    "## Pemisahan Explanatory variable dan target variable"
   ]
  },
  {
   "cell_type": "code",
   "execution_count": 220,
   "id": "b2a0b12e",
   "metadata": {},
   "outputs": [],
   "source": [
    "Y = (df[\"Potability\"])\n",
    "X = df.drop(\"Potability\",axis = \"columns\")"
   ]
  },
  {
   "cell_type": "code",
   "execution_count": null,
   "id": "0f090ac4",
   "metadata": {},
   "outputs": [],
   "source": []
  },
  {
   "cell_type": "markdown",
   "id": "6bc85364",
   "metadata": {},
   "source": [
    "## Pembuatan fungsi Cross-validation"
   ]
  },
  {
   "cell_type": "code",
   "execution_count": 221,
   "id": "b49287ad",
   "metadata": {},
   "outputs": [],
   "source": [
    "def cross_val(X,Y,K_vals): #pandas \n",
    "    \n",
    "    \n",
    "    \"\"\"\n",
    "    df adalah dataset berukuran (m,n)\n",
    "    m = jumlah training examples\n",
    "    n = jumlah feature dan target\n",
    "    kolom pertama adalah respon\n",
    "    kolom lain merupakan feature \n",
    "    \"\"\"\n",
    "    Train_err = {}\n",
    "    Test_err = {}\n",
    "    errtr={}\n",
    "    errts={}\n",
    "    general = {}\n",
    "    n = len(X)\n",
    "    j = 0\n",
    "    for K in K_vals:\n",
    "        loss_train = []\n",
    "        loss_test  = []\n",
    "        \n",
    "        for k in range(1,K+1):\n",
    "            # integer indicade os test samples\n",
    "            test_ind = ((n/K)*(k-1)+np.arange(1,n/K + 1)-1).astype(\"int\")\n",
    "            train_ind = np.setdiff1d(np.arange(n),test_ind)\n",
    "                                                           \n",
    "            X_train, Y_train = X[train_ind, :], Y[train_ind]\n",
    "            X_test, Y_test = X[test_ind,:], Y[test_ind]\n",
    "            \"\"\"\n",
    "            pada baris model sampai test_err dapat disesuaikan \n",
    "            algoritma pembelajarannya, baik dari library atau\n",
    "            buatan sendiri\n",
    "            \"\"\"\n",
    "            \n",
    "            model = LogisticRegression(random_state=0,max_iter = 10000).fit(X_train,Y_train)\n",
    "            train_err =  model.score(X_train, Y_train)\n",
    "            test_err = model.score(X_test, Y_test)\n",
    "            \n",
    "            loss_train.append(1- train_err)\n",
    "            loss_test.append(1- test_err)\n",
    "            \n",
    "            \n",
    "        errtr[str(K)+\" Fold\"]=loss_train\n",
    "        errts[str(K)+\" Fold\"]=loss_test\n",
    "        \n",
    "        Train_err[\"Fold \"+str(K)] = sum(loss_train)/K\n",
    "        Test_err[\"Fold \"+str(K)]  = sum(loss_test)/K\n",
    "        general[\"Fold \"+str(K)]   = np.abs(sum(loss_test)/K - sum(loss_train)/K)\n",
    "        \n",
    "    return Train_err, Test_err, errtr, errts, general\n",
    "        \n",
    "            \n",
    "            \n",
    "            \n",
    "    \n",
    "    "
   ]
  },
  {
   "cell_type": "markdown",
   "id": "56c0b26b",
   "metadata": {},
   "source": [
    "## Training dan testing model"
   ]
  },
  {
   "cell_type": "code",
   "execution_count": 222,
   "id": "82745caa",
   "metadata": {},
   "outputs": [],
   "source": [
    "Train_err, Test_err, errtr, errts, general = cross_val(\n",
    "                                    np.array(X),np.array(Y),\n",
    "                                    [10,20,30,40,50,\n",
    "                                    60,70,80,90,100])"
   ]
  },
  {
   "cell_type": "code",
   "execution_count": 223,
   "id": "a90f827c",
   "metadata": {},
   "outputs": [
    {
     "data": {
      "image/png": "[encoded data removed]",
      "text/plain": [
       "<Figure size 432x288 with 1 Axes>"
      ]
     },
     "metadata": {
      "needs_background": "light"
     },
     "output_type": "display_data"
    }
   ],
   "source": [
    "fold = Train_err.keys()\n",
    "train = Train_err.values()\n",
    "test = Test_err.values()\n",
    "#gen = np.array(train)-np.array(test)\n",
    "\n",
    "plt.plot(fold,train,label = \"train\")\n",
    "plt.plot(fold,test, label = \"test\")\n",
    "\n",
    "\n",
    "plt.xlabel(\"Fold\")\n",
    "plt.ylabel(\"Error\")\n",
    "plt.title(\"Error plot\")\n",
    "plt.legend()\n",
    "\n",
    "plt.show()"
   ]
  },
  {
   "cell_type": "markdown",
   "id": "8fe5e864",
   "metadata": {},
   "source": [
    "Error masih 40%, model masih underfit"
   ]
  },
  {
   "cell_type": "markdown",
   "id": "4eac4cb2",
   "metadata": {},
   "source": [
    "Dari grafik di atas, FOLD CV yang paling baik pada train err adalah pada fold 20"
   ]
  },
  {
   "cell_type": "code",
   "execution_count": 224,
   "id": "a19fecf7",
   "metadata": {},
   "outputs": [
    {
     "data": {
      "image/png": "[encoded data removed]",
      "text/plain": [
       "<Figure size 432x288 with 1 Axes>"
      ]
     },
     "metadata": {
      "needs_background": "light"
     },
     "output_type": "display_data"
    }
   ],
   "source": [
    "plt.plot(fold,general.values(),label = \"diff_gen\")\n",
    "\n",
    "plt.xlabel(\"Fold\")\n",
    "plt.ylabel(\"Diff\")\n",
    "plt.title(\"Diff generalization\")\n",
    "plt.legend()\n",
    "\n",
    "plt.show()"
   ]
  },
  {
   "cell_type": "markdown",
   "id": "99439d89",
   "metadata": {},
   "source": [
    "Dari grafik di atas, FOLD CV yang paling tidak overfit adalah pada fold 20. overfit atau tidak dinilai dari selisih train dan test error."
   ]
  },
  {
   "cell_type": "markdown",
   "id": "90227b75",
   "metadata": {},
   "source": [
    "## Percobaan dengan drop kolom \"ph\" dan \"sulfate\""
   ]
  },
  {
   "cell_type": "code",
   "execution_count": 225,
   "id": "384711d3",
   "metadata": {},
   "outputs": [
    {
     "data": {
      "text/html": [
       "<div>\n",
       "<style scoped>\n",
       "    .dataframe tbody tr th:only-of-type {\n",
       "        vertical-align: middle;\n",
       "    }\n",
       "\n",
       "    .dataframe tbody tr th {\n",
       "        vertical-align: top;\n",
       "    }\n",
       "\n",
       "    .dataframe thead th {\n",
       "        text-align: right;\n",
       "    }\n",
       "</style>\n",
       "<table border=\"1\" class=\"dataframe\">\n",
       "  <thead>\n",
       "    <tr style=\"text-align: right;\">\n",
       "      <th></th>\n",
       "      <th>Hardness</th>\n",
       "      <th>Solids</th>\n",
       "      <th>Chloramines</th>\n",
       "      <th>Conductivity</th>\n",
       "      <th>Organic_carbon</th>\n",
       "      <th>Trihalomethanes</th>\n",
       "      <th>Turbidity</th>\n",
       "      <th>Potability</th>\n",
       "    </tr>\n",
       "  </thead>\n",
       "  <tbody>\n",
       "    <tr>\n",
       "      <th>0</th>\n",
       "      <td>204.890455</td>\n",
       "      <td>20791.318981</td>\n",
       "      <td>7.300212</td>\n",
       "      <td>564.308654</td>\n",
       "      <td>10.379783</td>\n",
       "      <td>86.990970</td>\n",
       "      <td>2.963135</td>\n",
       "      <td>0</td>\n",
       "    </tr>\n",
       "    <tr>\n",
       "      <th>1</th>\n",
       "      <td>129.422921</td>\n",
       "      <td>18630.057858</td>\n",
       "      <td>6.635246</td>\n",
       "      <td>592.885359</td>\n",
       "      <td>15.180013</td>\n",
       "      <td>56.329076</td>\n",
       "      <td>4.500656</td>\n",
       "      <td>0</td>\n",
       "    </tr>\n",
       "    <tr>\n",
       "      <th>2</th>\n",
       "      <td>224.236259</td>\n",
       "      <td>19909.541732</td>\n",
       "      <td>9.275884</td>\n",
       "      <td>418.606213</td>\n",
       "      <td>16.868637</td>\n",
       "      <td>66.420093</td>\n",
       "      <td>3.055934</td>\n",
       "      <td>0</td>\n",
       "    </tr>\n",
       "    <tr>\n",
       "      <th>3</th>\n",
       "      <td>214.373394</td>\n",
       "      <td>22018.417441</td>\n",
       "      <td>8.059332</td>\n",
       "      <td>363.266516</td>\n",
       "      <td>18.436524</td>\n",
       "      <td>100.341674</td>\n",
       "      <td>4.628771</td>\n",
       "      <td>0</td>\n",
       "    </tr>\n",
       "    <tr>\n",
       "      <th>4</th>\n",
       "      <td>181.101509</td>\n",
       "      <td>17978.986339</td>\n",
       "      <td>6.546600</td>\n",
       "      <td>398.410813</td>\n",
       "      <td>11.558279</td>\n",
       "      <td>31.997993</td>\n",
       "      <td>4.075075</td>\n",
       "      <td>0</td>\n",
       "    </tr>\n",
       "  </tbody>\n",
       "</table>\n",
       "</div>"
      ],
      "text/plain": [
       "     Hardness        Solids  Chloramines  Conductivity  Organic_carbon  \\\n",
       "0  204.890455  20791.318981     7.300212    564.308654       10.379783   \n",
       "1  129.422921  18630.057858     6.635246    592.885359       15.180013   \n",
       "2  224.236259  19909.541732     9.275884    418.606213       16.868637   \n",
       "3  214.373394  22018.417441     8.059332    363.266516       18.436524   \n",
       "4  181.101509  17978.986339     6.546600    398.410813       11.558279   \n",
       "\n",
       "   Trihalomethanes  Turbidity  Potability  \n",
       "0        86.990970   2.963135           0  \n",
       "1        56.329076   4.500656           0  \n",
       "2        66.420093   3.055934           0  \n",
       "3       100.341674   4.628771           0  \n",
       "4        31.997993   4.075075           0  "
      ]
     },
     "execution_count": 225,
     "metadata": {},
     "output_type": "execute_result"
    }
   ],
   "source": [
    "df2 = df1.dropna(thresh = len(df1)*0.9, axis=\"columns\")\n",
    "df2.head()"
   ]
  },
  {
   "cell_type": "code",
   "execution_count": 226,
   "id": "6f9bcb1c",
   "metadata": {},
   "outputs": [],
   "source": [
    "df2 = df2.dropna()"
   ]
  },
  {
   "cell_type": "code",
   "execution_count": 227,
   "id": "1cc8b39c",
   "metadata": {},
   "outputs": [],
   "source": [
    "X1 = df2.drop(\"Potability\", axis = \"columns\")\n",
    "Y1 = df2[\"Potability\"]"
   ]
  },
  {
   "cell_type": "code",
   "execution_count": 228,
   "id": "a51a41bb",
   "metadata": {},
   "outputs": [],
   "source": [
    "Train_err, Test_err, errtr, errts, general = cross_val(np.array(X1),\n",
    "                                                       np.array(Y1),\n",
    "                                                       [10,20,30,40,50,\n",
    "                                    60,70,80,90,100])"
   ]
  },
  {
   "cell_type": "code",
   "execution_count": 229,
   "id": "8b0ca113",
   "metadata": {},
   "outputs": [
    {
     "data": {
      "image/png": "[encoded data removed]",
      "text/plain": [
       "<Figure size 432x288 with 1 Axes>"
      ]
     },
     "metadata": {
      "needs_background": "light"
     },
     "output_type": "display_data"
    }
   ],
   "source": [
    "fold = Train_err.keys()\n",
    "train = Train_err.values()\n",
    "test = Test_err.values()\n",
    "#gen = np.array(train)-np.array(test)\n",
    "\n",
    "plt.plot(fold,train,label = \"train\")\n",
    "plt.plot(fold,test, label = \"test\")\n",
    "\n",
    "\n",
    "plt.xlabel(\"Fold\")\n",
    "plt.ylabel(\"Error\")\n",
    "plt.title(\"Error plot\")\n",
    "plt.legend()\n",
    "\n",
    "plt.show()"
   ]
  },
  {
   "cell_type": "markdown",
   "id": "94f54ed0",
   "metadata": {},
   "source": [
    "error masih sekitar 40%, model masih underfit"
   ]
  },
  {
   "cell_type": "code",
   "execution_count": 230,
   "id": "ca01b2e1",
   "metadata": {},
   "outputs": [
    {
     "data": {
      "image/png": "[encoded data removed]",
      "text/plain": [
       "<Figure size 432x288 with 1 Axes>"
      ]
     },
     "metadata": {
      "needs_background": "light"
     },
     "output_type": "display_data"
    }
   ],
   "source": [
    "plt.plot(fold,general.values(),label = \"diff_gen\")\n",
    "\n",
    "plt.xlabel(\"Fold\")\n",
    "plt.ylabel(\"Diff\")\n",
    "plt.title(\"Diff generalization\")\n",
    "plt.legend()\n",
    "\n",
    "plt.show()"
   ]
  },
  {
   "cell_type": "code",
   "execution_count": 231,
   "id": "3b154561",
   "metadata": {},
   "outputs": [
    {
     "data": {
      "text/plain": [
       "[0.41042112776588147,\n",
       " 0.4079229122055674,\n",
       " 0.3822269807280514,\n",
       " 0.3818700927908637,\n",
       " 0.3829407566024269,\n",
       " 0.4093504639543183,\n",
       " 0.4082798001427552,\n",
       " 0.3807994289793005,\n",
       " 0.3818700927908637,\n",
       " 0.3822269807280514]"
      ]
     },
     "execution_count": 231,
     "metadata": {},
     "output_type": "execute_result"
    }
   ],
   "source": [
    "errtr[\"10 Fold\"]"
   ]
  },
  {
   "cell_type": "code",
   "execution_count": null,
   "id": "4b649620",
   "metadata": {},
   "outputs": [],
   "source": []
  }
 ],
 "metadata": {
  "kernelspec": {
   "display_name": "Python 3",
   "language": "python",
   "name": "python3"
  },
  "language_info": {
   "codemirror_mode": {
    "name": "ipython",
    "version": 3
   },
   "file_extension": ".py",
   "mimetype": "text/x-python",
   "name": "python",
   "nbconvert_exporter": "python",
   "pygments_lexer": "ipython3",
   "version": "3.8.8"
  }
 },
 "nbformat": 4,
 "nbformat_minor": 5
}
